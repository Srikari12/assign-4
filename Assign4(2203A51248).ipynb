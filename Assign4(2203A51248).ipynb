{
  "nbformat": 4,
  "nbformat_minor": 0,
  "metadata": {
    "colab": {
      "provenance": []
    },
    "kernelspec": {
      "name": "python3",
      "display_name": "Python 3"
    },
    "language_info": {
      "name": "python"
    }
  },
  "cells": [
    {
      "cell_type": "code",
      "execution_count": 1,
      "metadata": {
        "id": "mSu-XRbKCwXW",
        "colab": {
          "base_uri": "https://localhost:8080/"
        },
        "outputId": "f5e9e2e9-2055-46c0-e27c-0d103daef4f5"
      },
      "outputs": [
        {
          "output_type": "stream",
          "name": "stdout",
          "text": [
            "Description of the data:\n",
            "          longitude    latitude  housing_median_age   total_rooms  \\\n",
            "count  3000.000000  3000.00000         3000.000000   3000.000000   \n",
            "mean   -119.589200    35.63539           28.845333   2599.578667   \n",
            "std       1.994936     2.12967           12.555396   2155.593332   \n",
            "min    -124.180000    32.56000            1.000000      6.000000   \n",
            "25%    -121.810000    33.93000           18.000000   1401.000000   \n",
            "50%    -118.485000    34.27000           29.000000   2106.000000   \n",
            "75%    -118.020000    37.69000           37.000000   3129.000000   \n",
            "max    -114.490000    41.92000           52.000000  30450.000000   \n",
            "\n",
            "       total_bedrooms    population  households  median_income  \\\n",
            "count     3000.000000   3000.000000  3000.00000    3000.000000   \n",
            "mean       529.950667   1402.798667   489.91200       3.807272   \n",
            "std        415.654368   1030.543012   365.42271       1.854512   \n",
            "min          2.000000      5.000000     2.00000       0.499900   \n",
            "25%        291.000000    780.000000   273.00000       2.544000   \n",
            "50%        437.000000   1155.000000   409.50000       3.487150   \n",
            "75%        636.000000   1742.750000   597.25000       4.656475   \n",
            "max       5419.000000  11935.000000  4930.00000      15.000100   \n",
            "\n",
            "       median_house_value  \n",
            "count          3000.00000  \n",
            "mean         205846.27500  \n",
            "std          113119.68747  \n",
            "min           22500.00000  \n",
            "25%          121200.00000  \n",
            "50%          177650.00000  \n",
            "75%          263975.00000  \n",
            "max          500001.00000  \n"
          ]
        }
      ],
      "source": [
        "import pandas as pd\n",
        "data = pd.read_csv(\"/content/sample_data/california_housing_test.csv\")\n",
        "description = data.describe()\n",
        "print(\"Description of the data:\\n\", description)"
      ]
    },
    {
      "cell_type": "code",
      "source": [
        "import pandas as pd\n",
        "data = pd.read_csv(\"/content/sample_data/california_housing_test.csv\")\n",
        "data_types = data.dtypes\n",
        "print(\"Data type of each column:\\n\", data_types)\n",
        "shape = data.shape\n",
        "print(\"\\nShape of the data:\", shape)\n"
      ],
      "metadata": {
        "colab": {
          "base_uri": "https://localhost:8080/"
        },
        "id": "WhQiiK10FSW3",
        "outputId": "072aecea-4bbf-448a-bd1c-2f74f8f178c7"
      },
      "execution_count": 2,
      "outputs": [
        {
          "output_type": "stream",
          "name": "stdout",
          "text": [
            "Data type of each column:\n",
            " longitude             float64\n",
            "latitude              float64\n",
            "housing_median_age    float64\n",
            "total_rooms           float64\n",
            "total_bedrooms        float64\n",
            "population            float64\n",
            "households            float64\n",
            "median_income         float64\n",
            "median_house_value    float64\n",
            "dtype: object\n",
            "\n",
            "Shape of the data: (3000, 9)\n"
          ]
        }
      ]
    },
    {
      "cell_type": "code",
      "source": [
        "import pandas as pd\n",
        "data = pd.read_csv(\"/content/sample_data/california_housing_test.csv\")\n",
        "null_values = data.isnull().sum()\n",
        "print(\"Null values in the data:\\n\", null_values)\n",
        "data.fillna(data.mean(), inplace=True)"
      ],
      "metadata": {
        "colab": {
          "base_uri": "https://localhost:8080/"
        },
        "id": "a-Gt00EdF8xU",
        "outputId": "d52a1690-b016-46e0-ed59-4d769aab890a"
      },
      "execution_count": 3,
      "outputs": [
        {
          "output_type": "stream",
          "name": "stdout",
          "text": [
            "Null values in the data:\n",
            " longitude             0\n",
            "latitude              0\n",
            "housing_median_age    0\n",
            "total_rooms           0\n",
            "total_bedrooms        0\n",
            "population            0\n",
            "households            0\n",
            "median_income         0\n",
            "median_house_value    0\n",
            "dtype: int64\n"
          ]
        }
      ]
    },
    {
      "cell_type": "code",
      "source": [
        "import pandas as pd\n",
        "data = pd.read_csv(\"/content/sample_data/california_housing_test.csv\")\n",
        "features = data.iloc[:, :-1]\n",
        "target = data.iloc[:, -1]\n",
        "print(\"Features:\")\n",
        "print(features.head())\n",
        "print(\"\\nTarget:\")\n",
        "print(target.head())\n"
      ],
      "metadata": {
        "colab": {
          "base_uri": "https://localhost:8080/"
        },
        "id": "7mAYMF89G3eN",
        "outputId": "ac8a49ba-b3dc-47c4-ee12-b6c78089b26e"
      },
      "execution_count": 4,
      "outputs": [
        {
          "output_type": "stream",
          "name": "stdout",
          "text": [
            "Features:\n",
            "   longitude  latitude  housing_median_age  total_rooms  total_bedrooms  \\\n",
            "0    -122.05     37.37                27.0       3885.0           661.0   \n",
            "1    -118.30     34.26                43.0       1510.0           310.0   \n",
            "2    -117.81     33.78                27.0       3589.0           507.0   \n",
            "3    -118.36     33.82                28.0         67.0            15.0   \n",
            "4    -119.67     36.33                19.0       1241.0           244.0   \n",
            "\n",
            "   population  households  median_income  \n",
            "0      1537.0       606.0         6.6085  \n",
            "1       809.0       277.0         3.5990  \n",
            "2      1484.0       495.0         5.7934  \n",
            "3        49.0        11.0         6.1359  \n",
            "4       850.0       237.0         2.9375  \n",
            "\n",
            "Target:\n",
            "0    344700.0\n",
            "1    176500.0\n",
            "2    270500.0\n",
            "3    330000.0\n",
            "4     81700.0\n",
            "Name: median_house_value, dtype: float64\n"
          ]
        }
      ]
    },
    {
      "cell_type": "code",
      "source": [
        "import pandas as pd\n",
        "from sklearn.model_selection import train_test_split\n",
        "target_column = data.columns[-1]\n",
        "\n",
        "features = data.drop(columns=[target_column])\n",
        "target = data[target_column]\n",
        "X_train, X_test, y_train, y_test = train_test_split(features, target, test_size=0.2, random_state=42)\n",
        "\n",
        "print(\"Shape of X_train:\", X_train.shape)\n",
        "print(\"Shape of X_test:\", X_test.shape)\n",
        "print(\"Shape of y_train:\", y_train.shape)\n",
        "print(\"Shape of y_test:\",y_test.shape)"
      ],
      "metadata": {
        "colab": {
          "base_uri": "https://localhost:8080/"
        },
        "id": "Gug5ZhB6M4ky",
        "outputId": "ed432466-d7f0-44e4-fe04-41cbd62015e4"
      },
      "execution_count": 11,
      "outputs": [
        {
          "output_type": "stream",
          "name": "stdout",
          "text": [
            "Shape of X_train: (2400, 8)\n",
            "Shape of X_test: (600, 8)\n",
            "Shape of y_train: (2400,)\n",
            "Shape of y_test: (600,)\n"
          ]
        }
      ]
    },
    {
      "cell_type": "code",
      "source": [
        "import pandas as pd\n",
        "from sklearn.preprocessing import MinMaxScaler\n",
        "target_column = data.columns[-1]\n",
        "features = data.drop(columns=[target_column])\n",
        "target = data[target_column]\n",
        "scaler = MinMaxScaler()\n",
        "features_normalized = scaler.fit_transform(features)\n",
        "features_normalized_df = pd.DataFrame(features_normalized, columns=features.columns)\n",
        "print(\"Normalized Features:\")\n",
        "print(features_normalized_df.head())"
      ],
      "metadata": {
        "colab": {
          "base_uri": "https://localhost:8080/"
        },
        "id": "-eow7mraTqpv",
        "outputId": "61bae71b-e95d-40ed-cce5-e11c9806e019"
      },
      "execution_count": 12,
      "outputs": [
        {
          "output_type": "stream",
          "name": "stdout",
          "text": [
            "Normalized Features:\n",
            "   longitude  latitude  housing_median_age  total_rooms  total_bedrooms  \\\n",
            "0   0.219814  0.513889            0.509804     0.127414        0.121654   \n",
            "1   0.606811  0.181624            0.823529     0.049402        0.056858   \n",
            "2   0.657379  0.130342            0.509804     0.117691        0.093225   \n",
            "3   0.600619  0.134615            0.529412     0.002004        0.002400   \n",
            "4   0.465428  0.402778            0.352941     0.040566        0.044674   \n",
            "\n",
            "   population  households  median_income  \n",
            "0    0.128416    0.122565       0.421277  \n",
            "1    0.067393    0.055804       0.213728  \n",
            "2    0.123973    0.100041       0.365064  \n",
            "3    0.003688    0.001826       0.388684  \n",
            "4    0.070830    0.047687       0.168108  \n"
          ]
        }
      ]
    }
  ]
}